{
 "cells": [
  {
   "cell_type": "code",
   "execution_count": 1,
   "id": "73d12cd1-db0d-40e0-b69a-d261b2582806",
   "metadata": {},
   "outputs": [],
   "source": [
    "import sagemaker # session\n",
    "import pyspark # spark\n",
    "import boto3 # S3 bucket\n",
    "\n",
    "from PIL import Image\n",
    "import numpy as np\n",
    "import tensorflow as tf # model"
   ]
  },
  {
   "cell_type": "code",
   "execution_count": 2,
   "id": "10c18e54-cb15-4cc7-8adc-aea17d946f7c",
   "metadata": {},
   "outputs": [
    {
     "name": "stdout",
     "output_type": "stream",
     "text": [
      "python version = 3.8.12\n",
      "versions des bibliothèques utilisées:\n",
      "sagemaker==2.92.1; pyspark==3.0.0; boto3==1.23.10; PIL.Image==9.0.1; numpy==1.20.3; tensorflow==2.7.1\n"
     ]
    }
   ],
   "source": [
    "from platform import python_version\n",
    "\n",
    "print(f'python version = {python_version()}')\n",
    "print('versions des bibliothèques utilisées:')\n",
    "print('; '.join(f'{m.__name__}=={m.__version__}' for m in globals(\n",
    ").values() if getattr(m, '__version__', None)))"
   ]
  },
  {
   "cell_type": "code",
   "execution_count": null,
   "id": "42aea096-8a56-465d-ab9f-6aca4f5d64e8",
   "metadata": {},
   "outputs": [],
   "source": []
  }
 ],
 "metadata": {
  "kernelspec": {
   "display_name": "conda_tensorflow2_p38",
   "language": "python",
   "name": "conda_tensorflow2_p38"
  },
  "language_info": {
   "codemirror_mode": {
    "name": "ipython",
    "version": 3
   },
   "file_extension": ".py",
   "mimetype": "text/x-python",
   "name": "python",
   "nbconvert_exporter": "python",
   "pygments_lexer": "ipython3",
   "version": "3.8.12"
  }
 },
 "nbformat": 4,
 "nbformat_minor": 5
}
