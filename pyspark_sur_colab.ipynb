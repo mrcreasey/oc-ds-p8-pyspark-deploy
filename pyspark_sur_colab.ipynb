{
  "nbformat": 4,
  "nbformat_minor": 0,
  "metadata": {
    "colab": {
      "name": "pyspark-sur-colab.ipynb",
      "provenance": [],
      "collapsed_sections": [],
      "authorship_tag": "ABX9TyOWJHj6JynDJhUL8foHaYbL",
      "include_colab_link": true
    },
    "kernelspec": {
      "name": "python3",
      "display_name": "Python 3"
    },
    "language_info": {
      "name": "python"
    },
    "gpuClass": "standard"
  },
  "cells": [
    {
      "cell_type": "markdown",
      "metadata": {
        "id": "view-in-github",
        "colab_type": "text"
      },
      "source": [
        "<a href=\"https://colab.research.google.com/github/mrcreasey/oc-ds-p8-pyspark-deploy/blob/main/pyspark_sur_colab.ipynb\" target=\"_parent\"><img src=\"https://colab.research.google.com/assets/colab-badge.svg\" alt=\"Open In Colab\"/></a>"
      ]
    },
    {
      "cell_type": "markdown",
      "source": [
        "# Pyspark sur Google Colab\n",
        "\n",
        "Initialisation of PySpark from <https://www.pauldesalvo.com/how-to-install-spark-on-google-colab/>"
      ],
      "metadata": {
        "id": "Z49t1V_zI5sl"
      }
    },
    {
      "cell_type": "code",
      "source": [
        "!sudo apt update\n",
        "!apt-get install openjdk-8-jdk-headless -qq > /dev/null\n",
        "#Check this site for the latest download link https://www.apache.org/dyn/closer.lua/spark/spark-3.2.1/spark-3.2.1-bin-hadoop3.2.tgz\n",
        "!wget -q https://dlcdn.apache.org/spark/spark-3.3.0/spark-3.3.0-bin-hadoop3.tgz\n",
        "!tar xf spark-3.3.0-bin-hadoop3.tgz\n",
        "!pip install -q findspark\n",
        "!pip install pyspark\n",
        "!pip install py4j\n"
      ],
      "metadata": {
        "colab": {
          "base_uri": "https://localhost:8080/"
        },
        "id": "LN_A0F_II4QT",
        "outputId": "a519fb3a-dcb5-4263-fc20-7f56598ba4e5"
      },
      "execution_count": 1,
      "outputs": [
        {
          "output_type": "stream",
          "name": "stdout",
          "text": [
            "\u001b[33m\r0% [Working]\u001b[0m\r            \rGet:1 http://security.ubuntu.com/ubuntu bionic-security InRelease [88.7 kB]\n",
            "\u001b[33m\r0% [Connecting to archive.ubuntu.com (185.125.190.36)] [1 InRelease 14.2 kB/88.\u001b[0m\r                                                                               \rHit:2 https://developer.download.nvidia.com/compute/cuda/repos/ubuntu1804/x86_64  InRelease\n",
            "\u001b[33m\r0% [Connecting to archive.ubuntu.com (185.125.190.36)] [1 InRelease 14.2 kB/88.\u001b[0m\u001b[33m\r0% [2 InRelease gpgv 1,581 B] [Connecting to archive.ubuntu.com (185.125.190.36\u001b[0m\r                                                                               \rGet:3 https://cloud.r-project.org/bin/linux/ubuntu bionic-cran40/ InRelease [3,626 B]\n",
            "\u001b[33m\r0% [2 InRelease gpgv 1,581 B] [Waiting for headers] [1 InRelease 43.1 kB/88.7 k\u001b[0m\u001b[33m\r0% [2 InRelease gpgv 1,581 B] [Waiting for headers] [1 InRelease 43.1 kB/88.7 k\u001b[0m\u001b[33m\r0% [2 InRelease gpgv 1,581 B] [Waiting for headers] [Waiting for headers] [Wait\u001b[0m\r                                                                               \rHit:4 http://archive.ubuntu.com/ubuntu bionic InRelease\n",
            "\r                                                                               \rGet:5 http://ppa.launchpad.net/c2d4u.team/c2d4u4.0+/ubuntu bionic InRelease [15.9 kB]\n",
            "\u001b[33m\r0% [2 InRelease gpgv 1,581 B] [Waiting for headers] [5 InRelease 14.2 kB/15.9 k\u001b[0m\r                                                                               \rIgn:6 https://developer.download.nvidia.com/compute/machine-learning/repos/ubuntu1804/x86_64  InRelease\n",
            "Hit:7 https://developer.download.nvidia.com/compute/machine-learning/repos/ubuntu1804/x86_64  Release\n",
            "Get:8 http://archive.ubuntu.com/ubuntu bionic-updates InRelease [88.7 kB]\n",
            "Hit:9 http://ppa.launchpad.net/cran/libgit2/ubuntu bionic InRelease\n",
            "Get:10 http://security.ubuntu.com/ubuntu bionic-security/universe amd64 Packages [1,521 kB]\n",
            "Get:11 http://archive.ubuntu.com/ubuntu bionic-backports InRelease [74.6 kB]\n",
            "Hit:12 http://ppa.launchpad.net/deadsnakes/ppa/ubuntu bionic InRelease\n",
            "Get:13 http://security.ubuntu.com/ubuntu bionic-security/restricted amd64 Packages [1,031 kB]\n",
            "Get:14 http://security.ubuntu.com/ubuntu bionic-security/main amd64 Packages [2,871 kB]\n",
            "Hit:15 http://ppa.launchpad.net/graphics-drivers/ppa/ubuntu bionic InRelease\n",
            "Get:17 http://ppa.launchpad.net/c2d4u.team/c2d4u4.0+/ubuntu bionic/main Sources [2,075 kB]\n",
            "Get:18 http://archive.ubuntu.com/ubuntu bionic-updates/restricted amd64 Packages [1,075 kB]\n",
            "Get:19 http://archive.ubuntu.com/ubuntu bionic-updates/universe amd64 Packages [2,298 kB]\n",
            "Get:20 http://archive.ubuntu.com/ubuntu bionic-updates/main amd64 Packages [3,302 kB]\n",
            "Get:21 http://ppa.launchpad.net/c2d4u.team/c2d4u4.0+/ubuntu bionic/main amd64 Packages [1,063 kB]\n",
            "Fetched 15.5 MB in 3s (4,464 kB/s)\n",
            "Reading package lists... Done\n",
            "Building dependency tree       \n",
            "Reading state information... Done\n",
            "66 packages can be upgraded. Run 'apt list --upgradable' to see them.\n",
            "Looking in indexes: https://pypi.org/simple, https://us-python.pkg.dev/colab-wheels/public/simple/\n",
            "Collecting pyspark\n",
            "  Downloading pyspark-3.3.0.tar.gz (281.3 MB)\n",
            "\u001b[K     |████████████████████████████████| 281.3 MB 46 kB/s \n",
            "\u001b[?25hCollecting py4j==0.10.9.5\n",
            "  Downloading py4j-0.10.9.5-py2.py3-none-any.whl (199 kB)\n",
            "\u001b[K     |████████████████████████████████| 199 kB 65.5 MB/s \n",
            "\u001b[?25hBuilding wheels for collected packages: pyspark\n",
            "  Building wheel for pyspark (setup.py) ... \u001b[?25l\u001b[?25hdone\n",
            "  Created wheel for pyspark: filename=pyspark-3.3.0-py2.py3-none-any.whl size=281764026 sha256=3919ff4ec0fd26281d9e68f9aeb93fd85bba358eb618cab382d39041a466fc3d\n",
            "  Stored in directory: /root/.cache/pip/wheels/7a/8e/1b/f73a52650d2e5f337708d9f6a1750d451a7349a867f928b885\n",
            "Successfully built pyspark\n",
            "Installing collected packages: py4j, pyspark\n",
            "Successfully installed py4j-0.10.9.5 pyspark-3.3.0\n",
            "Looking in indexes: https://pypi.org/simple, https://us-python.pkg.dev/colab-wheels/public/simple/\n",
            "Requirement already satisfied: py4j in /usr/local/lib/python3.7/dist-packages (0.10.9.5)\n"
          ]
        }
      ]
    },
    {
      "cell_type": "code",
      "source": [
        "\n",
        "import os\n",
        "import sys\n",
        "os.environ[\"JAVA_HOME\"] = \"/usr/lib/jvm/java-8-openjdk-amd64\"\n",
        "os.environ[\"SPARK_HOME\"] = \"/content/spark-3.3.0-bin-hadoop3\"\n",
        "\n"
      ],
      "metadata": {
        "id": "JBlIThfAKXvO"
      },
      "execution_count": 2,
      "outputs": []
    },
    {
      "cell_type": "code",
      "source": [
        "import pyspark\n",
        "import findspark\n",
        "findspark.init()\n",
        "findspark.find()"
      ],
      "metadata": {
        "colab": {
          "base_uri": "https://localhost:8080/",
          "height": 35
        },
        "id": "W76Dtg1vL1lB",
        "outputId": "b5be6f9b-b137-420e-fa33-86eef2e7b944"
      },
      "execution_count": 3,
      "outputs": [
        {
          "output_type": "execute_result",
          "data": {
            "text/plain": [
              "'/content/spark-3.3.0-bin-hadoop3'"
            ],
            "application/vnd.google.colaboratory.intrinsic+json": {
              "type": "string"
            }
          },
          "metadata": {},
          "execution_count": 3
        }
      ]
    },
    {
      "cell_type": "code",
      "source": [
        "from pyspark.sql import DataFrame, SparkSession\n",
        "from typing import List\n",
        "import pyspark.sql.types as T\n",
        "import pyspark.sql.functions as F\n",
        "\n",
        "spark= SparkSession.builder.appName(\"Our First Spark Example\").getOrCreate()\n",
        "\n",
        "spark"
      ],
      "metadata": {
        "colab": {
          "base_uri": "https://localhost:8080/",
          "height": 219
        },
        "id": "FfDX-lXiKabt",
        "outputId": "280d8b3e-48ad-48ed-8d87-770ae6636efd"
      },
      "execution_count": 4,
      "outputs": [
        {
          "output_type": "execute_result",
          "data": {
            "text/plain": [
              "<pyspark.sql.session.SparkSession at 0x7f129341a650>"
            ],
            "text/html": [
              "\n",
              "            <div>\n",
              "                <p><b>SparkSession - in-memory</b></p>\n",
              "                \n",
              "        <div>\n",
              "            <p><b>SparkContext</b></p>\n",
              "\n",
              "            <p><a href=\"http://e73b2e8a5f4f:4040\">Spark UI</a></p>\n",
              "\n",
              "            <dl>\n",
              "              <dt>Version</dt>\n",
              "                <dd><code>v3.3.0</code></dd>\n",
              "              <dt>Master</dt>\n",
              "                <dd><code>local[*]</code></dd>\n",
              "              <dt>AppName</dt>\n",
              "                <dd><code>Our First Spark Example</code></dd>\n",
              "            </dl>\n",
              "        </div>\n",
              "        \n",
              "            </div>\n",
              "        "
            ]
          },
          "metadata": {},
          "execution_count": 4
        }
      ]
    },
    {
      "cell_type": "markdown",
      "source": [
        "# Copy images\n",
        "\n",
        "Des images de fruits sont disponibles sur\n",
        "- https://www.kaggle.com/datasets/moltean/fruits\n",
        "\n",
        "Un copie de ce jeu de données ce trouve aussi à\n",
        "- https://github.com/Horea94/Fruit-Images-Dataset \n",
        "\n",
        "On crée un jeu de données pour traitement avec PySpark\n"
      ],
      "metadata": {
        "id": "wm_51DESw9PT"
      }
    },
    {
      "cell_type": "code",
      "source": [
        "# delete folder\n",
        "if os.path.exists('data/train'):\n",
        "    %rm -rf 'data/train'"
      ],
      "metadata": {
        "id": "INrVHdqbHzb-"
      },
      "execution_count": 5,
      "outputs": []
    },
    {
      "cell_type": "code",
      "source": [
        "import io\n",
        "from PIL import Image  # https://pillow.readthedocs.io/en/4.3.x/\n",
        "import requests  # http://docs.python-requests.org/en/master/\n",
        "\n",
        "\n",
        "# example image url: https://github.com/Horea94/Fruit-Images-Dataset/tree/master/Training/\n",
        "def download_image(url, image_file_path):\n",
        "    # https://gist.github.com/mjdietzx/545fa2874b2688e9bcb71e2ee92cd5a0\n",
        "    r = requests.get(url, timeout=4.0)\n",
        "    if r.status_code != requests.codes.ok:\n",
        "        assert False, 'Status code error: {}.'.format(r.status_code)\n",
        "\n",
        "    with Image.open(io.BytesIO(r.content)) as im:\n",
        "        im.save(image_file_path)\n",
        "\n",
        "    # print(f'Image downloaded from url: {url} and saved to: {image_file_path}')\n",
        "\n",
        "if not os.path.exists('data'): os.makedirs('data')\n",
        "\n",
        "# test\n",
        "url='https://raw.githubusercontent.com/Horea94/Fruit-Images-Dataset/master/Training/Raspberry/0_100.jpg'\n",
        "download_image(url,'data/raspberry.jpg')"
      ],
      "metadata": {
        "id": "tfTpPTxdgtxL"
      },
      "execution_count": 6,
      "outputs": []
    },
    {
      "cell_type": "code",
      "source": [
        "import os\n",
        "SRC= 'https://raw.githubusercontent.com/Horea94/Fruit-Images-Dataset/master/Training'\n",
        "DEST = 'data/train'\n",
        "\n",
        "\n",
        "FRUITS=['Blueberry','Kiwi','Orange','Pineapple','Raspberry']\n",
        "ANGLES= [0,60,120,180,240,300]\n",
        "\n",
        "def makedirs(path):\n",
        "    if not os.path.exists(path):\n",
        "        os.makedirs(path)\n",
        "\n",
        "for fruit in FRUITS:\n",
        "    src_path = f'{SRC}/{fruit}/'\n",
        "    dest_path = f'{DEST}/{fruit}'\n",
        "    makedirs(dest_path)\n",
        "    for angle in ANGLES:\n",
        "        filename =f'{angle}_100.jpg'\n",
        "        try:\n",
        "            download_image(f'{src_path}/{filename}',f'{dest_path}/{filename}')\n",
        "        except:\n",
        "            continue"
      ],
      "metadata": {
        "id": "ajDMnlKMxkKw"
      },
      "execution_count": 7,
      "outputs": []
    },
    {
      "cell_type": "markdown",
      "source": [
        "Preview an image"
      ],
      "metadata": {
        "id": "pBLAt73w3hWF"
      }
    },
    {
      "cell_type": "code",
      "source": [
        "import matplotlib.pyplot as plt\n",
        "img=Image.open('data/train/Raspberry/0_100.jpg')\n",
        "plt.imshow(img, cmap='gray')"
      ],
      "metadata": {
        "colab": {
          "base_uri": "https://localhost:8080/",
          "height": 285
        },
        "id": "B8lGTKgA3fUn",
        "outputId": "25d927f3-c9f3-4759-b198-9b2cefd613f4"
      },
      "execution_count": 8,
      "outputs": [
        {
          "output_type": "execute_result",
          "data": {
            "text/plain": [
              "<matplotlib.image.AxesImage at 0x7f12929f1710>"
            ]
          },
          "metadata": {},
          "execution_count": 8
        },
        {
          "output_type": "display_data",
          "data": {
            "text/plain": [
              "<Figure size 432x288 with 1 Axes>"
            ],
            "image/png": "[encoded data removed]"
          },
          "metadata": {
            "needs_background": "light"
          }
        }
      ]
    },
    {
      "cell_type": "markdown",
      "source": [
        "Lire les images comme une stream"
      ],
      "metadata": {
        "id": "9LWywZFu7fJQ"
      }
    },
    {
      "cell_type": "code",
      "source": [
        "data_train_path='./data/train/**/*.jpg'\n",
        "df_train = spark.read.format('image').load(data_train_path, inferschema=True)\n",
        "df_train.count() "
      ],
      "metadata": {
        "colab": {
          "base_uri": "https://localhost:8080/"
        },
        "id": "5XA5kMs57ePO",
        "outputId": "1c7dfd1f-c9d0-407e-aee3-c463e9ee9513"
      },
      "execution_count": 9,
      "outputs": [
        {
          "output_type": "execute_result",
          "data": {
            "text/plain": [
              "24"
            ]
          },
          "metadata": {},
          "execution_count": 9
        }
      ]
    },
    {
      "cell_type": "code",
      "source": [
        "data_train_path='./data/train'\n",
        "df_train = spark.read.format('image').option('recursiveFileLookup', True).load(data_train_path, inferschema=True)\n",
        "df_train.count() "
      ],
      "metadata": {
        "colab": {
          "base_uri": "https://localhost:8080/"
        },
        "id": "dIRPDdfcBk7M",
        "outputId": "566cdc43-dadb-4d31-ffbe-1851ec2e3e7f"
      },
      "execution_count": 10,
      "outputs": [
        {
          "output_type": "execute_result",
          "data": {
            "text/plain": [
              "24"
            ]
          },
          "metadata": {},
          "execution_count": 10
        }
      ]
    },
    {
      "cell_type": "code",
      "source": [
        "df_train.printSchema()"
      ],
      "metadata": {
        "colab": {
          "base_uri": "https://localhost:8080/"
        },
        "id": "QbSIivv4-RZW",
        "outputId": "84470110-4fde-426e-bda8-0dd948fef924"
      },
      "execution_count": 11,
      "outputs": [
        {
          "output_type": "stream",
          "name": "stdout",
          "text": [
            "root\n",
            " |-- image: struct (nullable = true)\n",
            " |    |-- origin: string (nullable = true)\n",
            " |    |-- height: integer (nullable = true)\n",
            " |    |-- width: integer (nullable = true)\n",
            " |    |-- nChannels: integer (nullable = true)\n",
            " |    |-- mode: integer (nullable = true)\n",
            " |    |-- data: binary (nullable = true)\n",
            "\n"
          ]
        }
      ]
    },
    {
      "cell_type": "code",
      "source": [
        "df_train.select('image.origin','image.height', 'image.width', 'image.nChannels').show(2,False)"
      ],
      "metadata": {
        "colab": {
          "base_uri": "https://localhost:8080/"
        },
        "id": "zVKfp69O9W-_",
        "outputId": "f2ffddbb-3eb4-405b-cea7-3a07be085fd8"
      },
      "execution_count": 12,
      "outputs": [
        {
          "output_type": "stream",
          "name": "stdout",
          "text": [
            "+------------------------------------------------+------+-----+---------+\n",
            "|origin                                          |height|width|nChannels|\n",
            "+------------------------------------------------+------+-----+---------+\n",
            "|file:///content/data/train/Raspberry/60_100.jpg |100   |100  |3        |\n",
            "|file:///content/data/train/Pineapple/120_100.jpg|100   |100  |3        |\n",
            "+------------------------------------------------+------+-----+---------+\n",
            "only showing top 2 rows\n",
            "\n"
          ]
        }
      ]
    },
    {
      "cell_type": "markdown",
      "source": [
        "Extract label from directory of image"
      ],
      "metadata": {
        "id": "lzl3W0PZD-iB"
      }
    },
    {
      "cell_type": "code",
      "source": [
        "# from pyspark.sql.functions import element_at, split\n",
        "\n",
        "df_image = (df_train.withColumn('label',F.element_at(F.split(df_train['image.origin'],\"/\"),-2)))\n",
        "df_image.printSchema()\n"
      ],
      "metadata": {
        "colab": {
          "base_uri": "https://localhost:8080/"
        },
        "id": "nChsQEg-AxLv",
        "outputId": "1b59c03c-7701-4e72-efec-59a88617c477"
      },
      "execution_count": 13,
      "outputs": [
        {
          "output_type": "stream",
          "name": "stdout",
          "text": [
            "root\n",
            " |-- image: struct (nullable = true)\n",
            " |    |-- origin: string (nullable = true)\n",
            " |    |-- height: integer (nullable = true)\n",
            " |    |-- width: integer (nullable = true)\n",
            " |    |-- nChannels: integer (nullable = true)\n",
            " |    |-- mode: integer (nullable = true)\n",
            " |    |-- data: binary (nullable = true)\n",
            " |-- label: string (nullable = true)\n",
            "\n"
          ]
        }
      ]
    },
    {
      "cell_type": "code",
      "source": [
        "df_image.select(\"image.origin\", \"image.width\", \"image.height\",\n",
        "                 \"image.nChannels\", \"image.mode\",\"label\").show(5,False)"
      ],
      "metadata": {
        "colab": {
          "base_uri": "https://localhost:8080/"
        },
        "id": "qbDhF62SCla3",
        "outputId": "bc1ec9e0-f656-4a4e-9ac1-55e16bd57dc3"
      },
      "execution_count": 14,
      "outputs": [
        {
          "output_type": "stream",
          "name": "stdout",
          "text": [
            "+------------------------------------------------+-----+------+---------+----+---------+\n",
            "|origin                                          |width|height|nChannels|mode|label    |\n",
            "+------------------------------------------------+-----+------+---------+----+---------+\n",
            "|file:///content/data/train/Raspberry/60_100.jpg |100  |100   |3        |16  |Raspberry|\n",
            "|file:///content/data/train/Pineapple/120_100.jpg|100  |100   |3        |16  |Pineapple|\n",
            "|file:///content/data/train/Raspberry/180_100.jpg|100  |100   |3        |16  |Raspberry|\n",
            "|file:///content/data/train/Pineapple/240_100.jpg|100  |100   |3        |16  |Pineapple|\n",
            "|file:///content/data/train/Raspberry/300_100.jpg|100  |100   |3        |16  |Raspberry|\n",
            "+------------------------------------------------+-----+------+---------+----+---------+\n",
            "only showing top 5 rows\n",
            "\n"
          ]
        }
      ]
    },
    {
      "cell_type": "code",
      "source": [
        "df_image.groupBy('label').count().show()"
      ],
      "metadata": {
        "colab": {
          "base_uri": "https://localhost:8080/"
        },
        "id": "LxRFfEGYEObv",
        "outputId": "9f01a986-0479-4843-f337-e81dea6f01bf"
      },
      "execution_count": 15,
      "outputs": [
        {
          "output_type": "stream",
          "name": "stdout",
          "text": [
            "+---------+-----+\n",
            "|    label|count|\n",
            "+---------+-----+\n",
            "|Pineapple|    5|\n",
            "|   Orange|    5|\n",
            "|Raspberry|    5|\n",
            "|     Kiwi|    4|\n",
            "|Blueberry|    5|\n",
            "+---------+-----+\n",
            "\n"
          ]
        }
      ]
    },
    {
      "cell_type": "markdown",
      "source": [
        "# Transfer learning\n",
        "\n",
        "https://docs.databricks.com/applications/machine-learning/preprocess-data/transfer-learning-tensorflow.html \n",
        "\n",
        "Distributed featurization using pandas UDFs\n",
        "- Load data using Apache Spark's binary files data source\n",
        "- Load and prepare a model for featurization\n",
        "- Compute features using a Scalar Iterator pandas UDF\n"
      ],
      "metadata": {
        "id": "OYYPGJGWKwRq"
      }
    },
    {
      "cell_type": "markdown",
      "source": [
        ""
      ],
      "metadata": {
        "id": "wIroeKbVQcho"
      }
    },
    {
      "cell_type": "code",
      "source": [
        "df_images = spark.read.format(\"binaryFile\") \\\n",
        "  .option(\"pathGlobFilter\", \"*.jpg\") \\\n",
        "  .option(\"recursiveFileLookup\", True) \\\n",
        "  .load(\"./data/train\")\n",
        "\n",
        "df_images.limit(5).select('path').head(5)\n"
      ],
      "metadata": {
        "colab": {
          "base_uri": "https://localhost:8080/"
        },
        "id": "iIMieBCdQbzv",
        "outputId": "09f60d88-a6c4-49e3-9bd4-133703238d74"
      },
      "execution_count": 36,
      "outputs": [
        {
          "output_type": "execute_result",
          "data": {
            "text/plain": [
              "[Row(path='file:/content/data/train/Raspberry/60_100.jpg'),\n",
              " Row(path='file:/content/data/train/Pineapple/120_100.jpg'),\n",
              " Row(path='file:/content/data/train/Raspberry/180_100.jpg'),\n",
              " Row(path='file:/content/data/train/Pineapple/240_100.jpg'),\n",
              " Row(path='file:/content/data/train/Raspberry/300_100.jpg')]"
            ]
          },
          "metadata": {},
          "execution_count": 36
        }
      ]
    },
    {
      "cell_type": "code",
      "source": [
        "df_images.printSchema()"
      ],
      "metadata": {
        "colab": {
          "base_uri": "https://localhost:8080/"
        },
        "id": "6oXBPRwzRFIe",
        "outputId": "6b6a9d4c-8f4f-4a91-8f8a-c9a556cc4a4f"
      },
      "execution_count": 37,
      "outputs": [
        {
          "output_type": "stream",
          "name": "stdout",
          "text": [
            "root\n",
            " |-- path: string (nullable = true)\n",
            " |-- modificationTime: timestamp (nullable = true)\n",
            " |-- length: long (nullable = true)\n",
            " |-- content: binary (nullable = true)\n",
            "\n"
          ]
        }
      ]
    },
    {
      "cell_type": "markdown",
      "source": [
        "### Prepare your model\n",
        "Download a model file for featurization, and truncate the last layer(s). This notebook uses ResNet50.\n",
        "\n",
        "Spark workers need to access the model and its weights.\n",
        "\n",
        "- For moderately sized models (< 1GB in size), a good practice is to download the model to the Spark driver and then broadcast the weights to the workers.\n",
        "- This notebook uses this approach.\n",
        "For large models (> 1GB), it is best to load the model weights from distributed storage to workers directly."
      ],
      "metadata": {
        "id": "SbPqD5h3LW0r"
      }
    },
    {
      "cell_type": "code",
      "source": [
        "import tensorflow as tf\n",
        "from tensorflow.keras.applications.resnet50 import ResNet50, preprocess_input\n",
        "from tensorflow.keras.preprocessing.image import img_to_array"
      ],
      "metadata": {
        "id": "FyQlJevPL7eC"
      },
      "execution_count": 16,
      "outputs": []
    },
    {
      "cell_type": "code",
      "source": [
        "\n",
        "model = ResNet50(include_top=False)\n",
        "# model.summary()  # verify that the top layer is removed"
      ],
      "metadata": {
        "id": "QGL_HWk0LVrx"
      },
      "execution_count": 18,
      "outputs": []
    },
    {
      "cell_type": "code",
      "source": [
        "bc_model_weights = spark.sparkContext.broadcast(model.get_weights())\n",
        "\n",
        "def model_fn():\n",
        "  \"\"\"\n",
        "  Returns a ResNet50 model with top layer removed and broadcasted pretrained weights.\n",
        "  \"\"\"\n",
        "  model = ResNet50(weights=None, include_top=False)\n",
        "  model.set_weights(bc_model_weights.value)\n",
        "  return model"
      ],
      "metadata": {
        "id": "eDIRfbjdK3Xn"
      },
      "execution_count": 21,
      "outputs": []
    },
    {
      "cell_type": "markdown",
      "source": [
        "### Define image loading and featurization logic in a Pandas UDF\n",
        "This notebook defines the logic in steps, building up to the Pandas UDF. The call stack is:\n",
        "\n",
        "- pandas UDF\n",
        "  - featurize a pd.Series of images\n",
        "    - preprocess one image\n",
        "\n",
        "This notebook uses the newer Scalar Iterator pandas UDF to amortize the cost of loading large models on workers.\n",
        "\n"
      ],
      "metadata": {
        "id": "yM5yU0G4NcbM"
      }
    },
    {
      "cell_type": "code",
      "source": [
        "import numpy as np\n",
        "import pandas as pd\n",
        "\n",
        "\n",
        "def preprocess(content):\n",
        "  \"\"\"\n",
        "  Preprocesses raw image bytes for prediction.\n",
        "  \"\"\"\n",
        "  img = Image.open(io.BytesIO(content)).resize([224, 224])\n",
        "  arr = img_to_array(img)\n",
        "  return preprocess_input(arr)\n",
        "\n",
        "def featurize_series(model, content_series):\n",
        "  \"\"\"\n",
        "  Featurize a pd.Series of raw images using the input model.\n",
        "  :return: a pd.Series of image features\n",
        "  \"\"\"\n",
        "  input = np.stack(content_series.map(preprocess))\n",
        "  preds = model.predict(input)\n",
        "  # For some layers, output features will be multi-dimensional tensors.\n",
        "  # We flatten the feature tensors to vectors for easier storage in Spark DataFrames.\n",
        "  output = [p.flatten() for p in preds]\n",
        "  return pd.Series(output)\n"
      ],
      "metadata": {
        "id": "CxiAsXfmE4I8"
      },
      "execution_count": 22,
      "outputs": []
    },
    {
      "cell_type": "code",
      "source": [
        "from pyspark.sql.functions import col, pandas_udf, PandasUDFType\n",
        "from typing import Iterator\n",
        "\n",
        "\n",
        "@pandas_udf('array<float>')\n",
        "def featurize_udf(content_series_iter: Iterator[pd.Series])->Iterator[pd.Series]:\n",
        "  '''\n",
        "  This method is a Scalar Iterator pandas UDF wrapping our featurization function.\n",
        "  The decorator specifies that this returns a Spark DataFrame column of type ArrayType(FloatType).\n",
        "  \n",
        "  :param content_series_iter: This argument is an iterator over batches of data, where each batch\n",
        "                              is a pandas Series of image data.\n",
        "  '''\n",
        "  # With Scalar Iterator pandas UDFs, we can load the model once and then re-use it\n",
        "  # for multiple data batches.  This amortizes the overhead of loading big models.\n",
        "  model = model_fn()\n",
        "  for content_series in content_series_iter:\n",
        "    yield featurize_series(model, content_series)"
      ],
      "metadata": {
        "id": "tEDT47DqN3-L"
      },
      "execution_count": 25,
      "outputs": []
    },
    {
      "cell_type": "markdown",
      "source": [
        "## Apply featurization to the DataFrame of images\n"
      ],
      "metadata": {
        "id": "8WxwiBKcPWI7"
      }
    },
    {
      "cell_type": "code",
      "source": [
        "# Pandas UDFs on large records (e.g., very large images) can run into Out Of Memory (OOM) errors.\n",
        "# If you hit such errors in the cell below, try reducing the Arrow batch size via `maxRecordsPerBatch`.\n",
        "spark.conf.set(\"spark.sql.execution.arrow.maxRecordsPerBatch\", 1024)\n"
      ],
      "metadata": {
        "id": "6DMAdl0RPWas"
      },
      "execution_count": 26,
      "outputs": []
    },
    {
      "cell_type": "code",
      "source": [
        "# We can now run featurization on our entire Spark DataFrame.\n",
        "# NOTE: This can take a long time (about 10 minutes) since it applies a large model to the full dataset.\n",
        "# features_df = df_image.repartition(16).select(col(\"path\"), featurize_udf(\"content\").alias(\"features\"))\n",
        "df_features = df_images.select(col(\"path\"), featurize_udf(\"content\").alias(\"features\"))\n",
        "df_features.write.mode(\"overwrite\").parquet(\"tmp/fruit_image_features\")"
      ],
      "metadata": {
        "id": "5JWEAPSAPhix"
      },
      "execution_count": 38,
      "outputs": []
    },
    {
      "cell_type": "markdown",
      "source": [
        "## Train a new model using pre-computed features\n",
        "\n",
        "The final step in transfer learning would be to use our pre-computed features to train a new model for a new task, such as classifying flowers. We omit that step in this notebook. "
      ],
      "metadata": {
        "id": "mRIisrsuPnwb"
      }
    },
    {
      "cell_type": "code",
      "source": [
        ""
      ],
      "metadata": {
        "id": "RleJKWnxPoJr"
      },
      "execution_count": null,
      "outputs": []
    }
  ]
}